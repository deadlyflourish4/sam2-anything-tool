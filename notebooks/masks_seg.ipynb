{
 "cells": [
  {
   "cell_type": "code",
   "execution_count": null,
   "metadata": {},
   "outputs": [],
   "source": [
    "from sam2.sam2_image_predictor import ImageManualPredictor"
   ]
  },
  {
   "cell_type": "code",
   "execution_count": null,
   "metadata": {},
   "outputs": [],
   "source": [
    "result = ImageManualPredictor().predict(\n",
    "    \"/home/anansupercuteeeee/Music/tow/DJI_20230719145816_0003_V_video1/label\",\n",
    "    \n",
    "    \"../checkpoints/sam2.1_hiera_large.pt\",\n",
    "    \"configs/sam2.1/sam2.1_hiera_l.yaml\",\n",
    "    \n",
    ")\n",
    "# sam2_checkpoint = \"../checkpoints/sam2.1_hiera_large.pt\"\n",
    "# model_cfg = \"configs/sam2.1/sam2.1_hiera_l.yaml\""
   ]
  }
 ],
 "metadata": {
  "language_info": {
   "name": "python"
  }
 },
 "nbformat": 4,
 "nbformat_minor": 2
}
